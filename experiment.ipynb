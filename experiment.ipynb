{
 "cells": [
  {
   "cell_type": "markdown",
   "metadata": {},
   "source": [
    "Path tracking experiment\n",
    "========================"
   ]
  },
  {
   "cell_type": "code",
   "execution_count": 1,
   "metadata": {},
   "outputs": [],
   "source": [
    "%matplotlib qt\n",
    "import visualilzer\n",
    "import matplotlib.pyplot as plt\n",
    "\n",
    "fig = plt.figure()\n",
    "ax0 = fig.add_subplot(2,1,1, projection='polar')\n",
    "v = visualilzer.Visualizer(ax0)"
   ]
  },
  {
   "cell_type": "code",
   "execution_count": 2,
   "metadata": {},
   "outputs": [
    {
     "data": {
      "text/html": [
       "<div>\n",
       "<style scoped>\n",
       "    .dataframe tbody tr th:only-of-type {\n",
       "        vertical-align: middle;\n",
       "    }\n",
       "\n",
       "    .dataframe tbody tr th {\n",
       "        vertical-align: top;\n",
       "    }\n",
       "\n",
       "    .dataframe thead th {\n",
       "        text-align: right;\n",
       "    }\n",
       "</style>\n",
       "<table border=\"1\" class=\"dataframe\">\n",
       "  <thead>\n",
       "    <tr style=\"text-align: right;\">\n",
       "      <th></th>\n",
       "      <th>similarity</th>\n",
       "      <th>calc_time</th>\n",
       "    </tr>\n",
       "    <tr>\n",
       "      <th>Step</th>\n",
       "      <th></th>\n",
       "      <th></th>\n",
       "    </tr>\n",
       "  </thead>\n",
       "  <tbody>\n",
       "  </tbody>\n",
       "</table>\n",
       "</div>"
      ],
      "text/plain": [
       "Empty DataFrame\n",
       "Columns: [similarity, calc_time]\n",
       "Index: []"
      ]
     },
     "execution_count": 2,
     "metadata": {},
     "output_type": "execute_result"
    }
   ],
   "source": [
    "import pandas as pd\n",
    "import seaborn as sns\n",
    "ax1 = fig.add_subplot(2,1,2)\n",
    "df = pd.DataFrame({\"similarity\":[], \"calc_time\":[]})\n",
    "df.index.name=\"Step\"\n",
    "df"
   ]
  },
  {
   "cell_type": "code",
   "execution_count": 3,
   "metadata": {},
   "outputs": [],
   "source": [
    "import numpy as np\n",
    "import utilf\n",
    "points = utilf.make_polar_points()\n",
    "v.set_points(points)\n"
   ]
  },
  {
   "cell_type": "code",
   "execution_count": null,
   "metadata": {},
   "outputs": [],
   "source": [
    "import importlib\n",
    "importlib.reload(utilf)\n",
    "importlib.reload(tf_stepometer)"
   ]
  },
  {
   "cell_type": "code",
   "execution_count": 4,
   "metadata": {},
   "outputs": [],
   "source": [
    "import tf_stepometer\n",
    "import time\n",
    "import os\n",
    "s = tf_stepometer.Stepometer()\n",
    "cart_path = np.array([(0,0)])\n",
    "df = pd.DataFrame({\"Similarity\":[], \"Calc_time\":[]})\n",
    "df.index.name=\"Step\"\n",
    "ht=0\n",
    "hp=np.array([0.,0.])"
   ]
  },
  {
   "cell_type": "code",
   "execution_count": 5,
   "metadata": {},
   "outputs": [
    {
     "ename": "",
     "evalue": "",
     "output_type": "error",
     "traceback": [
      "\u001b[1;31mThe Kernel crashed while executing code in the current cell or a previous cell. \n",
      "\u001b[1;31mPlease review the code in the cell(s) to identify a possible cause of the failure. \n",
      "\u001b[1;31mClick <a href='https://aka.ms/vscodeJupyterKernelCrash'>here</a> for more info. \n",
      "\u001b[1;31mView Jupyter <a href='command:jupyter.viewOutput'>log</a> for further details."
     ]
    }
   ],
   "source": [
    "p_,th1_,th2_=None,None,None\n",
    "for _ in range(100):\n",
    "    theta =  np.pi/10 * (1+np.random.randn()*0.5)\n",
    "    # theta = 0\n",
    "    xy = np.array([-0.25, -0.35]) * (1+np.random.randn(2)*0.5)\n",
    "\n",
    "    p0 = np.array([utilf.polar_to_cart(p) for p in points])\n",
    "\n",
    "    p1 = (np.array([\n",
    "        [np.cos(theta), -np.sin(theta)],\n",
    "        [np.sin(theta),  np.cos(theta)]\n",
    "    ]) @ p0.T).T + xy\n",
    "\n",
    "    points = [utilf.cart_to_polar(p) for p in p1]\n",
    "\n",
    "    v.set_points(points)\n",
    "\n",
    "    # Calculation\n",
    "    calctime = time.time()\n",
    "    # s.theta.assign(np.array([theta]))\n",
    "    # s.pos.assign(xy)\n",
    "    \n",
    "    s.reset()\n",
    "    # Heuristic set\n",
    "    p,th1, th2 = utilf.heuristic_pos_theta_theta(p0, p1)\n",
    "    ht+=th1\n",
    "    hp += p\n",
    "    s.pos.assign(hp)\n",
    "    s.theta.assign(np.array([ht]))\n",
    "    # cart_path = np.array([(0,0), (1,0)])#(2*np.cos(ht), 2*np.sin(ht))])\n",
    "    # print(cart_path)\n",
    "    # cart_path += hp\n",
    "    cart_path = s(cart_path).numpy()\n",
    "    cart_path = np.append(cart_path, [(0,0)], axis=0)\n",
    "    cart_path = s.revert(cart_path).numpy()\n",
    "\n",
    "    # loss1 = s.calc_loss(p0, p1)\n",
    "    # s.theta.assign(np.array([th2]))\n",
    "    # loss2 = s.calc_loss(p0, p1)\n",
    "    # if sum(loss1) < sum(loss2):\n",
    "    #     s.theta.assign(np.array([th1]))\n",
    "\n",
    "\n",
    "    ##\n",
    "        \n",
    "    indexes = np.random.randint(0, len(p0), (20, 5))\n",
    "    # indexes = [list(range(len(p0)))]*20\n",
    "    # for idx in indexes: s.fit_once(p0[idx],p1)\n",
    "    calctime = time.time()-calctime\n",
    "    ##\n",
    "\n",
    "    # cart_path = np.append(s(cart_path), [(0,0)], axis=0)\n",
    "\n",
    "    line = [utilf.cart_to_polar(p) for p in s(cart_path)]\n",
    "    v.set_lines([line])\n",
    "\n",
    "    a=np.array([*xy,theta])\n",
    "    b=np.array([*s.pos, *s.theta])\n",
    "    sim=sum(a*b)/(np.linalg.norm(a)*np.linalg.norm(b))\n",
    "    df.loc[len(df)]=[sim, calctime]\n",
    "    ax1.clear()\n",
    "    sns.lineplot(df.reset_index().iloc[-10:], x='Step', y='Similarity', ax=ax1, markers=True)\n",
    "    ax1.set_ylim([-1,1.2])\n",
    "    # fig.savefig(f\"tmp{os.sep}{len(os.listdir('tmp'))}\")"
   ]
  },
  {
   "cell_type": "code",
   "execution_count": null,
   "metadata": {},
   "outputs": [],
   "source": [
    "df.to_csv(f\"tables{os.sep}5pointHeuristicReset.csv\")"
   ]
  },
  {
   "cell_type": "code",
   "execution_count": null,
   "metadata": {},
   "outputs": [],
   "source": []
  },
  {
   "cell_type": "markdown",
   "metadata": {},
   "source": [
    "Heuristic Reset\n",
    "===============\n",
    "Use a Heuristic to set an initial position and theta. Hopefully this can allow for better accuracy"
   ]
  },
  {
   "cell_type": "code",
   "execution_count": null,
   "metadata": {},
   "outputs": [],
   "source": [
    "import matplotlib.pyplot as plt\n",
    "import numpy as np\n",
    "\n",
    "n=150\n",
    "t=np.random.randn(n)\n",
    "noise=1\n",
    "x=3*t + np.random.randn(n)*noise + 0\n",
    "y=-5*t + np.random.randn(n)*noise + 0\n",
    "y = y-np.mean(y)\n",
    "plt.scatter(x,y, s=1)\n",
    "plt.gca().set_aspect(1.)"
   ]
  },
  {
   "cell_type": "code",
   "execution_count": null,
   "metadata": {},
   "outputs": [],
   "source": [
    "t_=None\n",
    "t =None\n",
    "ref_t = 0"
   ]
  },
  {
   "cell_type": "code",
   "execution_count": null,
   "metadata": {},
   "outputs": [],
   "source": [
    "theta=-0.314\n",
    "pos=[0,0]\n",
    "p1 = (np.array([\n",
    "    [np.cos(theta), -np.sin(theta)],\n",
    "    [np.sin(theta),  np.cos(theta)]\n",
    "]) @ np.stack([x,y],-1).T).T + pos\n",
    "x, y = p1.T\n",
    "\n",
    "cov=np.cov(np.stack([x,y]))\n",
    "eval, evec = np.linalg.eig(cov)\n",
    "# lines = np.stack([np.zeros((2,2)),evec[:,np.argsort(eval)[::-1]].T], axis=-1)\n",
    "lines = np.stack([np.zeros((2,2)),evec.T], axis=-1)*10\n",
    "plt.scatter(x,y, s=1, c='k')\n",
    "plt.plot(*lines[0])\n",
    "plt.plot(*lines[1])\n",
    "t_=t\n",
    "t=np.arctan2(*evec[:,np.argmax(eval)].T[::-1]) + 3*np.pi/4\n",
    "if t_ is None: t_=t\n",
    "# print(t, t_)\n",
    "dels = np.array([t-t_, t-t_+np.pi, t-t_-np.pi])\n",
    "deltt = dels[np.argmin(np.abs(dels))]\n",
    "ref_t += deltt\n",
    "print(deltt)\n",
    "plt.plot([0, 5*np.cos(ref_t)], [0, 5*np.sin(ref_t)], 'r')\n",
    "# plt.gca().set_aspect(1.)\n",
    "plt.xlim(-20,20)\n",
    "plt.ylim(-20,20)\n",
    "None"
   ]
  },
  {
   "cell_type": "code",
   "execution_count": null,
   "metadata": {},
   "outputs": [],
   "source": [
    "def heuristic_pos_theta(points):\n",
    "    '''Takes 2d list of cartesian points'''\n",
    "    pos = np.sum(points, 0)/len(points)\n",
    "    cov = np.cov(points.T)\n",
    "    eval, evec = np.linalg.eig(cov)\n",
    "    pc0 = evec[:, np.argmax(eval)]\n",
    "    theta = np.arctan2(*pc0[::-1])\n",
    "    return (pos, theta)\n",
    "    "
   ]
  },
  {
   "cell_type": "code",
   "execution_count": null,
   "metadata": {},
   "outputs": [],
   "source": [
    "heuristic_pos_theta(np.stack([x,y],-1))"
   ]
  },
  {
   "cell_type": "code",
   "execution_count": null,
   "metadata": {},
   "outputs": [],
   "source": []
  }
 ],
 "metadata": {
  "kernelspec": {
   "display_name": ".venv",
   "language": "python",
   "name": "python3"
  },
  "language_info": {
   "codemirror_mode": {
    "name": "ipython",
    "version": 3
   },
   "file_extension": ".py",
   "mimetype": "text/x-python",
   "name": "python",
   "nbconvert_exporter": "python",
   "pygments_lexer": "ipython3",
   "version": "3.11.5"
  }
 },
 "nbformat": 4,
 "nbformat_minor": 2
}
